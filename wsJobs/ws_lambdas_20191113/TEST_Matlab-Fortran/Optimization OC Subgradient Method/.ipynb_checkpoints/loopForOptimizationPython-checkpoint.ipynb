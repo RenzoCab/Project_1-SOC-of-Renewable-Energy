{
 "cells": [
  {
   "cell_type": "code",
   "execution_count": 1,
   "metadata": {},
   "outputs": [],
   "source": [
    "import numpy\n",
    "import time\n",
    "\n",
    "from nsopy.methods.subgradient import SubgradientMethod\n",
    "from nsopy.loggers import GenericMethodLogger\n",
    "\n",
    "# Author: Renzo Caballero\n",
    "# KAUST: King Abdullah University of Science and Technology\n",
    "# email 1: renzo.caballerorosas@kaust.edu.sa\n",
    "# email 2: CaballeroRenzo@hotmail.com\n",
    "# email 3: CaballeroRen@gmail.com\n",
    "# Website: None\n",
    "# November 2019; Last revision: 18/11/2019"
   ]
  },
  {
   "cell_type": "code",
   "execution_count": null,
   "metadata": {},
   "outputs": [],
   "source": [
    "def oracle(x):\n",
    "    \n",
    "    sft = 0;\n",
    "    comm = numpy.asarray([x[0]-sft,x[1]-sft,x[2]-sft,x[3]-sft,0,0,0,0,0,0]);\n",
    "    numpy.savetxt(\"loopForOpt.csv\", comm, delimiter=\",\");\n",
    "    done = 0;\n",
    "\n",
    "    while done == 0:\n",
    "\n",
    "        time.sleep(20);\n",
    "        comm = numpy.loadtxt(\"loopForOpt.csv\", delimiter =', ');\n",
    "\n",
    "        if float(comm[9]) == 1:\n",
    "            print([comm[0],comm[1],comm[2],comm[3],comm[4],comm[5],comm[6],comm[7],comm[8]]);\n",
    "            done = 1;\n",
    "        else:\n",
    "            print('Waiting for MATLAB...');\n",
    "            \n",
    "    f_x_k = comm[4];\n",
    "    diff_f_xk = [comm[5],comm[6],comm[7],comm[8]];\n",
    "    \n",
    "    return 0, f_x_k, numpy.array(diff_f_xk)\n",
    "\n",
    "def projection_function(x_k):\n",
    "    if x_k is 0:\n",
    "        return numpy.array([0,])\n",
    "    else:\n",
    "        return numpy.maximum(x_k, 0)"
   ]
  },
  {
   "cell_type": "code",
   "execution_count": null,
   "metadata": {
    "scrolled": false
   },
   "outputs": [],
   "source": [
    "method = SubgradientMethod(oracle, projection_function, dimension=4, stepsize_0=2, stepsize_rule=\"1/k\", sense='min')\n",
    "logger = GenericMethodLogger(method)\n",
    "\n",
    "for iteration in range(100):\n",
    "    method.step()"
   ]
  }
 ],
 "metadata": {
  "kernelspec": {
   "display_name": "Python 3",
   "language": "python",
   "name": "python3"
  },
  "language_info": {
   "codemirror_mode": {
    "name": "ipython",
    "version": 3
   },
   "file_extension": ".py",
   "mimetype": "text/x-python",
   "name": "python",
   "nbconvert_exporter": "python",
   "pygments_lexer": "ipython3",
   "version": "3.7.3"
  }
 },
 "nbformat": 4,
 "nbformat_minor": 2
}
