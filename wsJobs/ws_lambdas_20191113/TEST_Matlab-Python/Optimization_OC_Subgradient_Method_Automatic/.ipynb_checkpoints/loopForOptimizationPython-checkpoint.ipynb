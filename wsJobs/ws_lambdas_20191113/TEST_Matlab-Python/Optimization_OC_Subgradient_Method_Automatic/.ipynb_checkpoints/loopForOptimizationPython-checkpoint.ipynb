{
 "cells": [
  {
   "cell_type": "code",
   "execution_count": 1,
   "metadata": {},
   "outputs": [],
   "source": [
    "import numpy\n",
    "import time\n",
    "from datetime import datetime, timedelta\n",
    "import scipy.io\n",
    "import csv\n",
    "import os.path\n",
    "\n",
    "from nsopy.methods.subgradient import SubgradientMethod\n",
    "from nsopy.loggers import GenericMethodLogger\n",
    "\n",
    "# Author: Renzo Caballero\n",
    "# KAUST: King Abdullah University of Science and Technology\n",
    "# email 1: renzo.caballerorosas@kaust.edu.sa\n",
    "# email 2: CaballeroRenzo@hotmail.com\n",
    "# email 3: CaballeroRen@gmail.com\n",
    "# Website: None\n",
    "# November 2019; Last revision: 07/12/2019"
   ]
  },
  {
   "cell_type": "code",
   "execution_count": 2,
   "metadata": {},
   "outputs": [],
   "source": [
    "def oracle(x):\n",
    "    \n",
    "    sft = 0;\n",
    "    comm = numpy.asarray([x[0]-sft,x[1]-sft,x[2]-sft,x[3]-sft,0,0,0,0,0,0]);\n",
    "    numpy.savetxt(\"loopForOpt.csv\", comm, delimiter=\",\");\n",
    "    done = 0;\n",
    "\n",
    "    while done == 0:\n",
    "\n",
    "        time.sleep(20);\n",
    "        comm = numpy.loadtxt(\"loopForOpt.csv\", delimiter =', ');\n",
    "\n",
    "        if float(comm[9]) == 1:\n",
    "            print([comm[0],comm[1],comm[2],comm[3],comm[4],comm[5],comm[6],comm[7],comm[8]]);\n",
    "            done = 1;\n",
    "        else:\n",
    "            print('Waiting for MATLAB...');\n",
    "            \n",
    "    f_x_k = comm[4];\n",
    "    diff_f_xk = [comm[5],comm[6],comm[7],comm[8]];\n",
    "    \n",
    "    return 0, f_x_k, numpy.array(diff_f_xk)\n",
    "\n",
    "def projection_function(x_k):\n",
    "    if x_k is 0:\n",
    "        return numpy.array([0,])\n",
    "    else:\n",
    "        return numpy.maximum(x_k, 0)"
   ]
  },
  {
   "cell_type": "code",
   "execution_count": 3,
   "metadata": {
    "scrolled": false
   },
   "outputs": [
    {
     "name": "stdout",
     "output_type": "stream",
     "text": [
      "We will compute day: 20190701\n"
     ]
    },
    {
     "ename": "KeyboardInterrupt",
     "evalue": "",
     "output_type": "error",
     "traceback": [
      "\u001b[0;31m---------------------------------------------------------------------------\u001b[0m",
      "\u001b[0;31mKeyboardInterrupt\u001b[0m                         Traceback (most recent call last)",
      "\u001b[0;32m<ipython-input-3-d94534b9e49d>\u001b[0m in \u001b[0;36m<module>\u001b[0;34m\u001b[0m\n\u001b[1;32m     41\u001b[0m \u001b[0;34m\u001b[0m\u001b[0m\n\u001b[1;32m     42\u001b[0m         \u001b[0;32mfor\u001b[0m \u001b[0miteration\u001b[0m \u001b[0;32min\u001b[0m \u001b[0mrange\u001b[0m\u001b[0;34m(\u001b[0m\u001b[0;36m5\u001b[0m\u001b[0;34m)\u001b[0m\u001b[0;34m:\u001b[0m\u001b[0;34m\u001b[0m\u001b[0;34m\u001b[0m\u001b[0m\n\u001b[0;32m---> 43\u001b[0;31m             \u001b[0mmethod\u001b[0m\u001b[0;34m.\u001b[0m\u001b[0mstep\u001b[0m\u001b[0;34m(\u001b[0m\u001b[0;34m)\u001b[0m\u001b[0;34m\u001b[0m\u001b[0;34m\u001b[0m\u001b[0m\n\u001b[0m\u001b[1;32m     44\u001b[0m \u001b[0;34m\u001b[0m\u001b[0m\n\u001b[1;32m     45\u001b[0m     \u001b[0;31m# We increment the actualDate in one day:\u001b[0m\u001b[0;34m\u001b[0m\u001b[0;34m\u001b[0m\u001b[0;34m\u001b[0m\u001b[0m\n",
      "\u001b[0;32m~/anaconda3/lib/python3.7/site-packages/nsopy/methods/base.py\u001b[0m in \u001b[0;36mstep\u001b[0;34m(self)\u001b[0m\n\u001b[1;32m      5\u001b[0m \u001b[0;34m\u001b[0m\u001b[0m\n\u001b[1;32m      6\u001b[0m     \u001b[0;32mdef\u001b[0m \u001b[0mstep\u001b[0m\u001b[0;34m(\u001b[0m\u001b[0mself\u001b[0m\u001b[0;34m)\u001b[0m\u001b[0;34m:\u001b[0m\u001b[0;34m\u001b[0m\u001b[0;34m\u001b[0m\u001b[0m\n\u001b[0;32m----> 7\u001b[0;31m         \u001b[0mself\u001b[0m\u001b[0;34m.\u001b[0m\u001b[0mdual_step\u001b[0m\u001b[0;34m(\u001b[0m\u001b[0;34m)\u001b[0m\u001b[0;34m\u001b[0m\u001b[0;34m\u001b[0m\u001b[0m\n\u001b[0m",
      "\u001b[0;32m~/anaconda3/lib/python3.7/site-packages/nsopy/methods/subgradient.py\u001b[0m in \u001b[0;36mdual_step\u001b[0;34m(self)\u001b[0m\n\u001b[1;32m     57\u001b[0m     \u001b[0;32mdef\u001b[0m \u001b[0mdual_step\u001b[0m\u001b[0;34m(\u001b[0m\u001b[0mself\u001b[0m\u001b[0;34m)\u001b[0m\u001b[0;34m:\u001b[0m\u001b[0;34m\u001b[0m\u001b[0;34m\u001b[0m\u001b[0m\n\u001b[1;32m     58\u001b[0m         \u001b[0;31m# get subgradient\u001b[0m\u001b[0;34m\u001b[0m\u001b[0;34m\u001b[0m\u001b[0;34m\u001b[0m\u001b[0m\n\u001b[0;32m---> 59\u001b[0;31m         \u001b[0mself\u001b[0m\u001b[0;34m.\u001b[0m\u001b[0mx_k\u001b[0m\u001b[0;34m,\u001b[0m \u001b[0mself\u001b[0m\u001b[0;34m.\u001b[0m\u001b[0md_k\u001b[0m\u001b[0;34m,\u001b[0m \u001b[0mdiff_d_k\u001b[0m \u001b[0;34m=\u001b[0m \u001b[0mself\u001b[0m\u001b[0;34m.\u001b[0m\u001b[0moracle\u001b[0m\u001b[0;34m(\u001b[0m\u001b[0mself\u001b[0m\u001b[0;34m.\u001b[0m\u001b[0mlambda_k\u001b[0m\u001b[0;34m)\u001b[0m\u001b[0;34m\u001b[0m\u001b[0;34m\u001b[0m\u001b[0m\n\u001b[0m\u001b[1;32m     60\u001b[0m         \u001b[0;31m# log signal to any observers connected\u001b[0m\u001b[0;34m\u001b[0m\u001b[0;34m\u001b[0m\u001b[0;34m\u001b[0m\u001b[0m\n\u001b[1;32m     61\u001b[0m         \u001b[0mself\u001b[0m\u001b[0;34m.\u001b[0m\u001b[0mnotify_observers\u001b[0m\u001b[0;34m(\u001b[0m\u001b[0;34m)\u001b[0m\u001b[0;34m\u001b[0m\u001b[0;34m\u001b[0m\u001b[0m\n",
      "\u001b[0;32m~/anaconda3/lib/python3.7/site-packages/nsopy/utils.py\u001b[0m in \u001b[0;36minverted_oracle\u001b[0;34m(lambda_k)\u001b[0m\n\u001b[1;32m      6\u001b[0m \u001b[0;32mdef\u001b[0m \u001b[0minvert_oracle_sense\u001b[0m\u001b[0;34m(\u001b[0m\u001b[0moracle\u001b[0m\u001b[0;34m)\u001b[0m\u001b[0;34m:\u001b[0m\u001b[0;34m\u001b[0m\u001b[0;34m\u001b[0m\u001b[0m\n\u001b[1;32m      7\u001b[0m     \u001b[0;32mdef\u001b[0m \u001b[0minverted_oracle\u001b[0m\u001b[0;34m(\u001b[0m\u001b[0mlambda_k\u001b[0m\u001b[0;34m)\u001b[0m\u001b[0;34m:\u001b[0m\u001b[0;34m\u001b[0m\u001b[0;34m\u001b[0m\u001b[0m\n\u001b[0;32m----> 8\u001b[0;31m         \u001b[0mx_k\u001b[0m\u001b[0;34m,\u001b[0m \u001b[0md_k\u001b[0m\u001b[0;34m,\u001b[0m \u001b[0mdiff_d_k\u001b[0m \u001b[0;34m=\u001b[0m \u001b[0moracle\u001b[0m\u001b[0;34m(\u001b[0m\u001b[0mlambda_k\u001b[0m\u001b[0;34m)\u001b[0m\u001b[0;34m\u001b[0m\u001b[0;34m\u001b[0m\u001b[0m\n\u001b[0m\u001b[1;32m      9\u001b[0m \u001b[0;34m\u001b[0m\u001b[0m\n\u001b[1;32m     10\u001b[0m         \u001b[0;32mreturn\u001b[0m \u001b[0mx_k\u001b[0m\u001b[0;34m,\u001b[0m \u001b[0;34m-\u001b[0m\u001b[0md_k\u001b[0m\u001b[0;34m,\u001b[0m \u001b[0;34m-\u001b[0m\u001b[0mdiff_d_k\u001b[0m\u001b[0;34m\u001b[0m\u001b[0;34m\u001b[0m\u001b[0m\n",
      "\u001b[0;32m<ipython-input-2-a42ded0cc014>\u001b[0m in \u001b[0;36moracle\u001b[0;34m(x)\u001b[0m\n\u001b[1;32m      8\u001b[0m     \u001b[0;32mwhile\u001b[0m \u001b[0mdone\u001b[0m \u001b[0;34m==\u001b[0m \u001b[0;36m0\u001b[0m\u001b[0;34m:\u001b[0m\u001b[0;34m\u001b[0m\u001b[0;34m\u001b[0m\u001b[0m\n\u001b[1;32m      9\u001b[0m \u001b[0;34m\u001b[0m\u001b[0m\n\u001b[0;32m---> 10\u001b[0;31m         \u001b[0mtime\u001b[0m\u001b[0;34m.\u001b[0m\u001b[0msleep\u001b[0m\u001b[0;34m(\u001b[0m\u001b[0;36m20\u001b[0m\u001b[0;34m)\u001b[0m\u001b[0;34m;\u001b[0m\u001b[0;34m\u001b[0m\u001b[0;34m\u001b[0m\u001b[0m\n\u001b[0m\u001b[1;32m     11\u001b[0m         \u001b[0mcomm\u001b[0m \u001b[0;34m=\u001b[0m \u001b[0mnumpy\u001b[0m\u001b[0;34m.\u001b[0m\u001b[0mloadtxt\u001b[0m\u001b[0;34m(\u001b[0m\u001b[0;34m\"loopForOpt.csv\"\u001b[0m\u001b[0;34m,\u001b[0m \u001b[0mdelimiter\u001b[0m \u001b[0;34m=\u001b[0m\u001b[0;34m', '\u001b[0m\u001b[0;34m)\u001b[0m\u001b[0;34m;\u001b[0m\u001b[0;34m\u001b[0m\u001b[0;34m\u001b[0m\u001b[0m\n\u001b[1;32m     12\u001b[0m \u001b[0;34m\u001b[0m\u001b[0m\n",
      "\u001b[0;31mKeyboardInterrupt\u001b[0m: "
     ]
    }
   ],
   "source": [
    "# initialDate = \"20180302\"\n",
    "initialDate = \"20190101\"\n",
    "finalDate = \"20191215\"\n",
    "dateStringFormat = '%Y%m%d'\n",
    "\n",
    "actualDate = initialDate\n",
    "\n",
    "while actualDate != finalDate:\n",
    "\n",
    "    path = ['Simulations/table_',actualDate,'.mat']\n",
    "    path = \"\".join(path)\n",
    "    \n",
    "    # If table 1 does not exist, then we compute table 1:\n",
    "    if not(os.path.isfile(path)):\n",
    "    \n",
    "        print(\"\".join(['We will compute day: ',actualDate]))\n",
    "    \n",
    "        # Create .csv file with the date that we will compute:\n",
    "        myFile = open('date.csv', 'w')\n",
    "        with myFile:\n",
    "            writer = csv.writer(myFile)\n",
    "            writer.writerows([[actualDate]])\n",
    "\n",
    "        # Create path and load .mat file:\n",
    "        path = ['Historical/dailyData/Day_',actualDate,'.mat']\n",
    "        path = \"\".join(path)\n",
    "        mat = scipy.io.loadmat(path)\n",
    "\n",
    "        # We use only the dams costs and create the step:\n",
    "        array = mat.get(\"Matrix\")\n",
    "        array = array[0]\n",
    "        array = array[2]\n",
    "        step = numpy.mean(array)\n",
    "\n",
    "        # If all dams have value zero, we set the step to 1:\n",
    "        if step == 0:\n",
    "            step = 1\n",
    "\n",
    "        method = SubgradientMethod(oracle, projection_function, dimension=4, stepsize_0=step, stepsize_rule=\"1/k\", sense='min')\n",
    "        logger = GenericMethodLogger(method)\n",
    "\n",
    "        for iteration in range(5):\n",
    "            method.step()\n",
    "        \n",
    "    # We increment the actualDate in one day:\n",
    "    actualDate = datetime.strptime(actualDate, dateStringFormat)\n",
    "    actualDate = actualDate + timedelta(days=1)\n",
    "    actualDate = actualDate.strftime(dateStringFormat)\n"
   ]
  }
 ],
 "metadata": {
  "kernelspec": {
   "display_name": "Python 3",
   "language": "python",
   "name": "python3"
  },
  "language_info": {
   "codemirror_mode": {
    "name": "ipython",
    "version": 3
   },
   "file_extension": ".py",
   "mimetype": "text/x-python",
   "name": "python",
   "nbconvert_exporter": "python",
   "pygments_lexer": "ipython3",
   "version": "3.7.3"
  }
 },
 "nbformat": 4,
 "nbformat_minor": 2
}
