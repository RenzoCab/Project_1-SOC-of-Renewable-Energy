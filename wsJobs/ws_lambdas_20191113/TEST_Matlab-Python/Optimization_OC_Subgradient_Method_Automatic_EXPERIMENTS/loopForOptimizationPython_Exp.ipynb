{
 "cells": [
  {
   "cell_type": "code",
   "execution_count": 1,
   "metadata": {},
   "outputs": [],
   "source": [
    "import numpy\n",
    "import time\n",
    "from datetime import datetime, timedelta\n",
    "import scipy.io\n",
    "import csv\n",
    "\n",
    "from nsopy.methods.subgradient import SubgradientMethod\n",
    "from nsopy.loggers import GenericMethodLogger\n",
    "\n",
    "# Author: Renzo Caballero\n",
    "# KAUST: King Abdullah University of Science and Technology\n",
    "# email 1: renzo.caballerorosas@kaust.edu.sa\n",
    "# email 2: CaballeroRenzo@hotmail.com\n",
    "# email 3: CaballeroRen@gmail.com\n",
    "# Website: None\n",
    "# November 2019; Last revision: 04/12/2019"
   ]
  },
  {
   "cell_type": "code",
   "execution_count": 2,
   "metadata": {},
   "outputs": [],
   "source": [
    "def oracle(x):\n",
    "    \n",
    "    sft = 0;\n",
    "    comm = numpy.asarray([x[0]-sft,x[1]-sft,x[2]-sft,x[3]-sft,0,0,0,0,0,0]);\n",
    "    numpy.savetxt(\"loopForOpt.csv\", comm, delimiter=\",\");\n",
    "    done = 0;\n",
    "\n",
    "    while done == 0:\n",
    "\n",
    "        time.sleep(20);\n",
    "        comm = numpy.loadtxt(\"loopForOpt.csv\", delimiter =', ');\n",
    "\n",
    "        if float(comm[9]) == 1:\n",
    "            print([comm[0],comm[1],comm[2],comm[3],comm[4],comm[5],comm[6],comm[7],comm[8]]);\n",
    "            done = 1;\n",
    "        else:\n",
    "            print('Waiting for MATLAB...');\n",
    "            \n",
    "    f_x_k = comm[4];\n",
    "    diff_f_xk = [comm[5],comm[6],comm[7],comm[8]];\n",
    "    \n",
    "    return 0, f_x_k, numpy.array(diff_f_xk)\n",
    "\n",
    "def projection_function(x_k):\n",
    "    if x_k is 0:\n",
    "        return numpy.array([0,])\n",
    "    else:\n",
    "        return numpy.maximum(x_k, 0)"
   ]
  },
  {
   "cell_type": "code",
   "execution_count": null,
   "metadata": {
    "scrolled": false
   },
   "outputs": [
    {
     "name": "stdout",
     "output_type": "stream",
     "text": [
      "Waiting for MATLAB...\n",
      "Waiting for MATLAB...\n",
      "Waiting for MATLAB...\n",
      "Waiting for MATLAB...\n",
      "Waiting for MATLAB...\n",
      "Waiting for MATLAB...\n",
      "Waiting for MATLAB...\n",
      "Waiting for MATLAB...\n",
      "Waiting for MATLAB...\n",
      "Waiting for MATLAB...\n",
      "Waiting for MATLAB...\n",
      "Waiting for MATLAB...\n",
      "Waiting for MATLAB...\n",
      "Waiting for MATLAB...\n",
      "[0.0, 0.0, 0.0, 0.0, -88.394, 0.58654, 2.1273, -4.6566e-17, -2.7619]\n",
      "Waiting for MATLAB...\n",
      "Waiting for MATLAB...\n",
      "Waiting for MATLAB...\n",
      "Waiting for MATLAB...\n"
     ]
    }
   ],
   "source": [
    "#initialDate = \"20180302\"\n",
    "initialDate = \"20180518\"\n",
    "finalDate = \"20191130\"\n",
    "dateStringFormat = '%Y%m%d'\n",
    "\n",
    "actualDate = initialDate\n",
    "\n",
    "while actualDate != finalDate:\n",
    "\n",
    "    # Create .csv file with the date that we will compute:\n",
    "    myFile = open('date.csv', 'w')\n",
    "    with myFile:\n",
    "        writer = csv.writer(myFile)\n",
    "        writer.writerows([[actualDate]])\n",
    "    \n",
    "    # Create path and load .mat file:\n",
    "    path = ['Historical/dailyData/Day_',actualDate,'.mat']\n",
    "    path = \"\".join(path)\n",
    "    mat = scipy.io.loadmat(path)\n",
    "\n",
    "    # We use only the dams costs and create the step:\n",
    "    array = mat.get(\"Matrix\")\n",
    "    array = array[0]\n",
    "    array = array[2]\n",
    "    step = numpy.mean(array)\n",
    "    \n",
    "    # If all dams have value zero, we set the steo to 1:\n",
    "    if step == 0:\n",
    "        step = 1\n",
    "\n",
    "    method = SubgradientMethod(oracle, projection_function, dimension=4, stepsize_0=step, stepsize_rule=\"1/k\", sense='min')\n",
    "    logger = GenericMethodLogger(method)\n",
    "\n",
    "    for iteration in range(5):\n",
    "        method.step()\n",
    "        \n",
    "    # We increment the actualDate in one day:\n",
    "    actualDate = datetime.strptime(actualDate, dateStringFormat)\n",
    "    actualDate = actualDate + timedelta(days=1)\n",
    "    actualDate = actualDate.strftime(dateStringFormat)\n"
   ]
  }
 ],
 "metadata": {
  "kernelspec": {
   "display_name": "Python 3",
   "language": "python",
   "name": "python3"
  },
  "language_info": {
   "codemirror_mode": {
    "name": "ipython",
    "version": 3
   },
   "file_extension": ".py",
   "mimetype": "text/x-python",
   "name": "python",
   "nbconvert_exporter": "python",
   "pygments_lexer": "ipython3",
   "version": "3.7.3"
  }
 },
 "nbformat": 4,
 "nbformat_minor": 2
}
