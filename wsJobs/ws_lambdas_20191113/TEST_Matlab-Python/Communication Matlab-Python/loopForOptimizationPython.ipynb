{
 "cells": [
  {
   "cell_type": "code",
   "execution_count": 1,
   "metadata": {},
   "outputs": [],
   "source": [
    "import numpy\n",
    "import time\n",
    "import random\n",
    "\n",
    "# Author: Renzo Caballero\n",
    "# KAUST: King Abdullah University of Science and Technology\n",
    "# email 1: renzo.caballerorosas@kaust.edu.sa\n",
    "# email 2: CaballeroRenzo@hotmail.com\n",
    "# email 3: CaballeroRen@gmail.com\n",
    "# Website: None\n",
    "# November 2019; Last revision: 14/11/2019"
   ]
  },
  {
   "cell_type": "code",
   "execution_count": 2,
   "metadata": {},
   "outputs": [
    {
     "name": "stdout",
     "output_type": "stream",
     "text": [
      "[0.0, 0.0, 0.0, 0.0, 0.0]\n",
      "[7.8424, 5.6462, 648.82, 156.85, 112.92]\n",
      "[-0.94837, 1.6853, 6.4792, -3.7935, 6.7411]\n",
      "[9.2996, -0.48887, 582.22, 185.99, -9.7773]\n",
      "[-7.8791, -8.6758, 1142.2, -189.1, -208.22]\n",
      "[-7.9882, -7.0274, 860.16, -175.74, -154.6]\n",
      "[6.0412, 7.16, 592.61, 120.82, 143.2]\n",
      "[-7.4915, 8.7214, 1080.2, -179.8, 209.31]\n",
      "[6.7804, 7.7108, 774.74, 149.17, 169.64]\n",
      "[-3.9693, 8.453, 587.08, -79.386, 169.06]\n",
      "[-8.559, -5.5922, 764.83, -188.3, -123.03]\n",
      "[-7.8321, 1.8857, 380.07, -140.98, 33.943]\n",
      "[5.0305, -4.2581, 213.06, 70.427, -59.614]\n",
      "[-5.216, -1.6852, 125.28, -62.592, -20.222]\n",
      "[4.1513, -7.601, 471.07, 74.723, -136.82]\n",
      "[5.0156, -3.9884, 196.45, 70.218, -55.838]\n",
      "[-2.442, 0.97586, 15.747, -14.652, 5.8551]\n",
      "[7.9057, 3.9846, 501.39, 142.3, 71.722]\n",
      "[-0.49691, -1.2935, 2.8401, -1.9876, -5.174]\n",
      "[-0.051572, -1.7121, 4.8681, -0.20629, -6.8485]\n",
      "[-5.0518, 9.6681, 923.93, -111.14, 212.7]\n",
      "[-4.0235, 7.0318, 386.72, -72.424, 126.57]\n",
      "[-6.9323, -0.27687, 245.93, -97.052, -3.8762]\n",
      "[-1.1558, -3.6452, 44.494, -9.2467, -29.162]\n",
      "[-2.4326, 0.14713, 12.818, -14.596, 0.8828]\n",
      "[-2.1835, -9.1598, 601.69, -43.67, -183.2]\n",
      "[1.4785, 9.0408, 554.23, 29.57, 180.82]\n",
      "[-9.1064, 7.2737, 1124.0, -218.55, 174.57]\n",
      "[-1.2412, -1.0219, 4.1694, -4.9647, -4.0874]\n",
      "[5.5507, 4.929, 300.84, 88.811, 78.865]\n",
      "[-3.3906, -6.716, 312.8, -54.249, -107.46]\n",
      "[8.0148, 0.77874, 379.59, 144.27, 14.017]\n",
      "[-3.5213, -0.68632, 37.482, -28.17, -5.4906]\n",
      "[2.5241, 1.7557, 23.814, 20.193, 14.046]\n",
      "[-9.9146, -1.3136, 715.28, -218.12, -28.899]\n",
      "[-5.9989, -4.3878, 301.92, -95.983, -70.205]\n",
      "[-3.3067, 7.6044, 414.85, -59.521, 136.88]\n",
      "[6.415, -8.3474, 834.14, 141.13, -183.64]\n",
      "[-4.6137, 8.8094, 703.91, -92.275, 176.19]\n",
      "[2.1274, -4.9195, 117.36, 25.529, -59.034]\n",
      "[-4.6853, 5.6523, 291.2, -74.965, 90.437]\n",
      "[-7.6722, 6.6226, 744.93, -168.79, 145.7]\n",
      "[4.2727, 8.8875, 687.44, 85.453, 177.75]\n",
      "[-3.0891, 0.39152, 24.783, -24.713, 3.1322]\n",
      "[-8.0316, 1.7174, 403.1, -144.57, 30.914]\n",
      "[-5.304, -7.5995, 573.85, -106.08, -151.99]\n",
      "[2.5345, 5.8264, 191.6, 35.483, 81.57]\n",
      "[3.7658, 6.91, 355.43, 60.253, 110.56]\n",
      "[0.4122, 5.1146, 102.97, 4.9464, 61.375]\n",
      "[-1.7935, -2.7383, 28.859, -14.348, -21.906]\n",
      "[8.6183, 1.2242, 477.96, 155.13, 22.036]\n",
      "[3.8143, 4.276, 142.0, 45.772, 51.312]\n",
      "[0.44765, 9.672, 652.49, 8.953, 193.44]\n",
      "[5.5103, -7.6537, 604.43, 110.21, -153.07]\n",
      "[7.2692, -4.5019, 453.97, 130.85, -81.034]\n",
      "[-8.0709, -4.7566, 592.65, -161.42, -95.132]\n",
      "[-0.47116, 8.7997, 494.91, -8.4808, 158.39]\n",
      "[-9.5955, 5.4714, 958.11, -230.29, 131.31]\n",
      "[4.4067, 5.976, 301.05, 70.508, 95.616]\n",
      "[1.9477, 6.0551, 192.2, 27.268, 84.771]\n"
     ]
    },
    {
     "name": "stderr",
     "output_type": "stream",
     "text": [
      "ERROR:root:Internal Python error in the inspect module.\n",
      "Below is the traceback from this internal error.\n",
      "\n"
     ]
    },
    {
     "name": "stdout",
     "output_type": "stream",
     "text": [
      "Traceback (most recent call last):\n",
      "  File \"/Users/caballrm/anaconda3/lib/python3.7/site-packages/IPython/core/interactiveshell.py\", line 3296, in run_code\n",
      "    exec(code_obj, self.user_global_ns, self.user_ns)\n",
      "  File \"<ipython-input-2-5a294374ff5d>\", line 7, in <module>\n",
      "    time.sleep(3);\n",
      "KeyboardInterrupt\n",
      "\n",
      "During handling of the above exception, another exception occurred:\n",
      "\n",
      "Traceback (most recent call last):\n",
      "  File \"/Users/caballrm/anaconda3/lib/python3.7/site-packages/IPython/core/interactiveshell.py\", line 2033, in showtraceback\n",
      "    stb = value._render_traceback_()\n",
      "AttributeError: 'KeyboardInterrupt' object has no attribute '_render_traceback_'\n",
      "\n",
      "During handling of the above exception, another exception occurred:\n",
      "\n",
      "Traceback (most recent call last):\n",
      "  File \"/Users/caballrm/anaconda3/lib/python3.7/site-packages/IPython/core/ultratb.py\", line 1095, in get_records\n",
      "    return _fixed_getinnerframes(etb, number_of_lines_of_context, tb_offset)\n",
      "  File \"/Users/caballrm/anaconda3/lib/python3.7/site-packages/IPython/core/ultratb.py\", line 313, in wrapped\n",
      "    return f(*args, **kwargs)\n",
      "  File \"/Users/caballrm/anaconda3/lib/python3.7/site-packages/IPython/core/ultratb.py\", line 347, in _fixed_getinnerframes\n",
      "    records = fix_frame_records_filenames(inspect.getinnerframes(etb, context))\n",
      "  File \"/Users/caballrm/anaconda3/lib/python3.7/inspect.py\", line 1502, in getinnerframes\n",
      "    frameinfo = (tb.tb_frame,) + getframeinfo(tb, context)\n",
      "  File \"/Users/caballrm/anaconda3/lib/python3.7/inspect.py\", line 1460, in getframeinfo\n",
      "    filename = getsourcefile(frame) or getfile(frame)\n",
      "  File \"/Users/caballrm/anaconda3/lib/python3.7/inspect.py\", line 696, in getsourcefile\n",
      "    if getattr(getmodule(object, filename), '__loader__', None) is not None:\n",
      "  File \"/Users/caballrm/anaconda3/lib/python3.7/inspect.py\", line 742, in getmodule\n",
      "    os.path.realpath(f)] = module.__name__\n",
      "  File \"/Users/caballrm/anaconda3/lib/python3.7/posixpath.py\", line 395, in realpath\n",
      "    path, ok = _joinrealpath(filename[:0], filename, {})\n",
      "  File \"/Users/caballrm/anaconda3/lib/python3.7/posixpath.py\", line 429, in _joinrealpath\n",
      "    if not islink(newpath):\n",
      "  File \"/Users/caballrm/anaconda3/lib/python3.7/posixpath.py\", line 171, in islink\n",
      "    st = os.lstat(path)\n",
      "KeyboardInterrupt\n"
     ]
    },
    {
     "ename": "KeyboardInterrupt",
     "evalue": "",
     "output_type": "error",
     "traceback": [
      "\u001b[0;31m---------------------------------------------------------------------------\u001b[0m"
     ]
    }
   ],
   "source": [
    "comm = numpy.asarray([0,0,0,0,0,0]);\n",
    "numpy.savetxt(\"loopForOpt.csv\", comm, delimiter=\",\");\n",
    "done = 0;\n",
    "\n",
    "while done == 0:\n",
    "    \n",
    "    time.sleep(3);\n",
    "    comm = numpy.loadtxt(\"loopForOpt.csv\", delimiter =', ');\n",
    "    \n",
    "    if float(comm[5]) == 1:\n",
    "        \n",
    "        print([comm[0],comm[1],comm[2],comm[3],comm[4]]);\n",
    "        comm[0] = 20*(random.random()-0.5);\n",
    "        comm[1] = 20*(random.random()-0.5);\n",
    "        comm[5] = 0;\n",
    "        numpy.savetxt(\"loopForOpt.csv\", comm, delimiter=\",\");\n",
    "    else:\n",
    "        print('Matlab has to Optimize!');\n",
    "        "
   ]
  }
 ],
 "metadata": {
  "kernelspec": {
   "display_name": "Python 3",
   "language": "python",
   "name": "python3"
  },
  "language_info": {
   "codemirror_mode": {
    "name": "ipython",
    "version": 3
   },
   "file_extension": ".py",
   "mimetype": "text/x-python",
   "name": "python",
   "nbconvert_exporter": "python",
   "pygments_lexer": "ipython3",
   "version": "3.7.3"
  }
 },
 "nbformat": 4,
 "nbformat_minor": 2
}
