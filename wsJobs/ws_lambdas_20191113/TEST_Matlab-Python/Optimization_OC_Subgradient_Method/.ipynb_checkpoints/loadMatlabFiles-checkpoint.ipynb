{
 "cells": [
  {
   "cell_type": "code",
   "execution_count": 39,
   "metadata": {},
   "outputs": [],
   "source": [
    "import scipy.io\n",
    "import numpy as np\n",
    "\n",
    "# Author: Renzo Caballero\n",
    "# KAUST: King Abdullah University of Science and Technology\n",
    "# email 1: renzo.caballerorosas@kaust.edu.sa\n",
    "# email 2: CaballeroRenzo@hotmail.com\n",
    "# email 3: CaballeroRen@gmail.com\n",
    "# Website: None\n",
    "# November 2019; Last revision: 04/12/2019"
   ]
  },
  {
   "cell_type": "code",
   "execution_count": 5,
   "metadata": {},
   "outputs": [],
   "source": [
    "mat = scipy.io.loadmat('Historical/dailyData/Day_20180302.mat')\n",
    "\n",
    "array = mat.get(\"Matrix\")\n",
    "array = array[0]\n",
    "array = array[2]\n",
    "step = np.mean(array)"
   ]
  }
 ],
 "metadata": {
  "kernelspec": {
   "display_name": "Python 3",
   "language": "python",
   "name": "python3"
  },
  "language_info": {
   "codemirror_mode": {
    "name": "ipython",
    "version": 3
   },
   "file_extension": ".py",
   "mimetype": "text/x-python",
   "name": "python",
   "nbconvert_exporter": "python",
   "pygments_lexer": "ipython3",
   "version": "3.7.3"
  }
 },
 "nbformat": 4,
 "nbformat_minor": 2
}
